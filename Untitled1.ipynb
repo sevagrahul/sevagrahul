{
  "nbformat": 4,
  "nbformat_minor": 0,
  "metadata": {
    "colab": {
      "name": "Untitled1.ipynb",
      "provenance": [],
      "authorship_tag": "ABX9TyNgvc+FUcopL3VI1SqqfyFZ",
      "include_colab_link": true
    },
    "kernelspec": {
      "name": "python3",
      "display_name": "Python 3"
    },
    "language_info": {
      "name": "python"
    }
  },
  "cells": [
    {
      "cell_type": "markdown",
      "metadata": {
        "id": "view-in-github",
        "colab_type": "text"
      },
      "source": [
        "<a href=\"https://colab.research.google.com/github/sevagrahul/sevagrahul/blob/main/Untitled1.ipynb\" target=\"_parent\"><img src=\"https://colab.research.google.com/assets/colab-badge.svg\" alt=\"Open In Colab\"/></a>"
      ]
    },
    {
      "cell_type": "code",
      "metadata": {
        "colab": {
          "base_uri": "https://localhost:8080/"
        },
        "id": "FFyWNC6s0zYf",
        "outputId": "ab7bfd36-020f-4569-db1d-e9f2a8a42e96"
      },
      "source": [
        "a=int(input(\"Enter num1=\"))\n",
        "b=int(input(\"Enter num2=\"))\n",
        "print(\"Addition=\",a+b)\n",
        "print(\"Subtraction=\",a-b)\n",
        "print(\"Multiplication=\",a*b)\n",
        "print(\"Division=\",a/b)"
      ],
      "execution_count": null,
      "outputs": [
        {
          "output_type": "stream",
          "text": [
            "Enter num1=5\n",
            "Enter num2=7\n",
            "Addition= 12\n",
            "Subtraction= -2\n",
            "Multiplication= 35\n",
            "Division= 0.7142857142857143\n"
          ],
          "name": "stdout"
        }
      ]
    }
  ]
}