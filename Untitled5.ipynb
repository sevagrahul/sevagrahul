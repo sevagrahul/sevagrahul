{
  "nbformat": 4,
  "nbformat_minor": 0,
  "metadata": {
    "colab": {
      "name": "Untitled5.ipynb",
      "provenance": [],
      "authorship_tag": "ABX9TyPtpFMGIl1uVlXkvEBZLwcG",
      "include_colab_link": true
    },
    "kernelspec": {
      "name": "python3",
      "display_name": "Python 3"
    },
    "language_info": {
      "name": "python"
    }
  },
  "cells": [
    {
      "cell_type": "markdown",
      "metadata": {
        "id": "view-in-github",
        "colab_type": "text"
      },
      "source": [
        "<a href=\"https://colab.research.google.com/github/sevagrahul/sevagrahul/blob/main/Untitled5.ipynb\" target=\"_parent\"><img src=\"https://colab.research.google.com/assets/colab-badge.svg\" alt=\"Open In Colab\"/></a>"
      ]
    },
    {
      "cell_type": "code",
      "metadata": {
        "colab": {
          "base_uri": "https://localhost:8080/"
        },
        "id": "k8WJtV1COiuf",
        "outputId": "b9007df0-923d-444f-efd7-cf9979a57e45"
      },
      "source": [
        "name=str(input(\"Enter the string:\"))\n",
        "print(\"reverse the string is:\",name[::-1])"
      ],
      "execution_count": 3,
      "outputs": [
        {
          "output_type": "stream",
          "text": [
            "Enter the string:MADAM\n",
            "reverse the string is: MADAM\n"
          ],
          "name": "stdout"
        }
      ]
    }
  ]
}