{
  "nbformat": 4,
  "nbformat_minor": 0,
  "metadata": {
    "colab": {
      "name": "Untitled4.ipynb",
      "provenance": [],
      "authorship_tag": "ABX9TyNN8i/JtFMNM9dv9yTjTPrC",
      "include_colab_link": true
    },
    "kernelspec": {
      "name": "python3",
      "display_name": "Python 3"
    },
    "language_info": {
      "name": "python"
    }
  },
  "cells": [
    {
      "cell_type": "markdown",
      "metadata": {
        "id": "view-in-github",
        "colab_type": "text"
      },
      "source": [
        "<a href=\"https://colab.research.google.com/github/sevagrahul/sevagrahul/blob/main/Untitled4.ipynb\" target=\"_parent\"><img src=\"https://colab.research.google.com/assets/colab-badge.svg\" alt=\"Open In Colab\"/></a>"
      ]
    },
    {
      "cell_type": "code",
      "metadata": {
        "colab": {
          "base_uri": "https://localhost:8080/"
        },
        "id": "WuWO2mdMON4W",
        "outputId": "9369f99a-914f-42e6-cfb1-a809d3c43fb4"
      },
      "source": [
        "P = int(input(\"enter the principle value:\"))\n",
        "R = int(input(\"enter the rate value:\"))\n",
        "T = int(input(\"enter the year:\"))\n",
        "# simple interest\n",
        "SI = (P * R * T) / 100\n",
        "print(\"simple interest is\", SI)"
      ],
      "execution_count": 1,
      "outputs": [
        {
          "output_type": "stream",
          "text": [
            "enter the principle value:100\n",
            "enter the rate value:5\n",
            "enter the year:2\n",
            "simple interest is 10.0\n"
          ],
          "name": "stdout"
        }
      ]
    }
  ]
}