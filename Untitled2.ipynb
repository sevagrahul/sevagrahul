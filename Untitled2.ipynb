{
  "nbformat": 4,
  "nbformat_minor": 0,
  "metadata": {
    "colab": {
      "name": "Untitled2.ipynb",
      "provenance": [],
      "authorship_tag": "ABX9TyNCdw50ZMjHxQrMCGLqxc2R",
      "include_colab_link": true
    },
    "kernelspec": {
      "name": "python3",
      "display_name": "Python 3"
    },
    "language_info": {
      "name": "python"
    }
  },
  "cells": [
    {
      "cell_type": "markdown",
      "metadata": {
        "id": "view-in-github",
        "colab_type": "text"
      },
      "source": [
        "<a href=\"https://colab.research.google.com/github/sevagrahul/sevagrahul/blob/main/Untitled2.ipynb\" target=\"_parent\"><img src=\"https://colab.research.google.com/assets/colab-badge.svg\" alt=\"Open In Colab\"/></a>"
      ]
    },
    {
      "cell_type": "code",
      "metadata": {
        "colab": {
          "base_uri": "https://localhost:8080/"
        },
        "id": "L6aIVfaMwypL",
        "outputId": "59f0cc8e-b7c0-4b7b-97f4-f1856e10bd06"
      },
      "source": [
        "a=int(input(\"enter the first number r:\"))\n",
        "b=int(input(\"enter the second number r:\"))\n",
        "temp=a\n",
        "a=b\n",
        "b=temp\n",
        "print(\"after swapping number s\")\n",
        "print(\"the value of a is:\",a)\n",
        "print(\"the value of b is:\",b)"
      ],
      "execution_count": null,
      "outputs": [
        {
          "output_type": "stream",
          "text": [
            "enter the first number r:7\n",
            "enter the second number r:5\n",
            "after swapping number s\n",
            "the value of a is: 5\n",
            "the value of b is: 7\n"
          ],
          "name": "stdout"
        }
      ]
    }
  ]
}