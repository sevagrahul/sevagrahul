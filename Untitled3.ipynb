{
  "nbformat": 4,
  "nbformat_minor": 0,
  "metadata": {
    "colab": {
      "name": "Untitled3.ipynb",
      "provenance": [],
      "authorship_tag": "ABX9TyM0zBQfdnQn5JTL8qDraSa9",
      "include_colab_link": true
    },
    "kernelspec": {
      "name": "python3",
      "display_name": "Python 3"
    },
    "language_info": {
      "name": "python"
    }
  },
  "cells": [
    {
      "cell_type": "markdown",
      "metadata": {
        "id": "view-in-github",
        "colab_type": "text"
      },
      "source": [
        "<a href=\"https://colab.research.google.com/github/sevagrahul/sevagrahul/blob/main/Untitled3.ipynb\" target=\"_parent\"><img src=\"https://colab.research.google.com/assets/colab-badge.svg\" alt=\"Open In Colab\"/></a>"
      ]
    },
    {
      "cell_type": "code",
      "metadata": {
        "colab": {
          "base_uri": "https://localhost:8080/"
        },
        "id": "hTce9gf6NkEK",
        "outputId": "07590720-dc16-4414-d864-4fa502c5197b"
      },
      "source": [
        "name=str(input(\"Enter the name:\"))\n",
        "age=int(input(\"Enter the age:\"))\n",
        "address=str(input(\"Enter the address:\"))\n",
        "salary=int(input(\"Enter the salary:\"))\n",
        "number=int(input(\"Enter the number:\"))\n",
        "print(\"NAME:\",name)\n",
        "print(\"AGE:\",age)\n",
        "print(\"ADDRESS:\",address)\n",
        "print(\"SALARY:\",salary)\n",
        "print(\"NUMBER\",number)"
      ],
      "execution_count": 1,
      "outputs": [
        {
          "output_type": "stream",
          "text": [
            "Enter the name:Ram\n",
            "Enter the age:25\n",
            "Enter the address:Ksr nagar\n",
            "Enter the salary:10000000\n",
            "Enter the number:8825489028\n",
            "NAME: Ram\n",
            "AGE: 25\n",
            "ADDRESS: Ksr nagar\n",
            "SALARY: 10000000\n",
            "NUMBER 8825489028\n"
          ],
          "name": "stdout"
        }
      ]
    }
  ]
}